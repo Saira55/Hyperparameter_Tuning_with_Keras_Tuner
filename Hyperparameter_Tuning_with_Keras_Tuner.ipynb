{
  "nbformat": 4,
  "nbformat_minor": 0,
  "metadata": {
    "colab": {
      "provenance": [],
      "gpuType": "T4"
    },
    "kernelspec": {
      "name": "python3",
      "display_name": "Python 3"
    },
    "language_info": {
      "name": "python"
    },
    "accelerator": "GPU"
  },
  "cells": [
    {
      "cell_type": "code",
      "source": [
        "!pip install keras-tuner"
      ],
      "metadata": {
        "colab": {
          "base_uri": "https://localhost:8080/"
        },
        "id": "c1Fac9xFSVRw",
        "outputId": "b758000b-39bb-429c-80ca-5b870f45ac9a"
      },
      "execution_count": 22,
      "outputs": [
        {
          "output_type": "stream",
          "name": "stdout",
          "text": [
            "Requirement already satisfied: keras-tuner in /usr/local/lib/python3.10/dist-packages (1.4.4)\n",
            "Requirement already satisfied: keras-core in /usr/local/lib/python3.10/dist-packages (from keras-tuner) (0.1.7)\n",
            "Requirement already satisfied: packaging in /usr/local/lib/python3.10/dist-packages (from keras-tuner) (23.2)\n",
            "Requirement already satisfied: requests in /usr/local/lib/python3.10/dist-packages (from keras-tuner) (2.31.0)\n",
            "Requirement already satisfied: kt-legacy in /usr/local/lib/python3.10/dist-packages (from keras-tuner) (1.0.5)\n",
            "Requirement already satisfied: absl-py in /usr/local/lib/python3.10/dist-packages (from keras-core->keras-tuner) (1.4.0)\n",
            "Requirement already satisfied: numpy in /usr/local/lib/python3.10/dist-packages (from keras-core->keras-tuner) (1.23.5)\n",
            "Requirement already satisfied: rich in /usr/local/lib/python3.10/dist-packages (from keras-core->keras-tuner) (13.6.0)\n",
            "Requirement already satisfied: namex in /usr/local/lib/python3.10/dist-packages (from keras-core->keras-tuner) (0.0.7)\n",
            "Requirement already satisfied: h5py in /usr/local/lib/python3.10/dist-packages (from keras-core->keras-tuner) (3.9.0)\n",
            "Requirement already satisfied: dm-tree in /usr/local/lib/python3.10/dist-packages (from keras-core->keras-tuner) (0.1.8)\n",
            "Requirement already satisfied: charset-normalizer<4,>=2 in /usr/local/lib/python3.10/dist-packages (from requests->keras-tuner) (3.3.0)\n",
            "Requirement already satisfied: idna<4,>=2.5 in /usr/local/lib/python3.10/dist-packages (from requests->keras-tuner) (3.4)\n",
            "Requirement already satisfied: urllib3<3,>=1.21.1 in /usr/local/lib/python3.10/dist-packages (from requests->keras-tuner) (2.0.6)\n",
            "Requirement already satisfied: certifi>=2017.4.17 in /usr/local/lib/python3.10/dist-packages (from requests->keras-tuner) (2023.7.22)\n",
            "Requirement already satisfied: markdown-it-py>=2.2.0 in /usr/local/lib/python3.10/dist-packages (from rich->keras-core->keras-tuner) (3.0.0)\n",
            "Requirement already satisfied: pygments<3.0.0,>=2.13.0 in /usr/local/lib/python3.10/dist-packages (from rich->keras-core->keras-tuner) (2.16.1)\n",
            "Requirement already satisfied: mdurl~=0.1 in /usr/local/lib/python3.10/dist-packages (from markdown-it-py>=2.2.0->rich->keras-core->keras-tuner) (0.1.2)\n"
          ]
        }
      ]
    },
    {
      "cell_type": "code",
      "source": [
        "import tensorflow as tf\n",
        "import keras_tuner as kt\n",
        "import matplotlib.pyplot as plt\n",
        "import numpy as np\n"
      ],
      "metadata": {
        "id": "dQqh3n8nSVUs"
      },
      "execution_count": 23,
      "outputs": []
    },
    {
      "cell_type": "code",
      "source": [
        "tf.__version__"
      ],
      "metadata": {
        "colab": {
          "base_uri": "https://localhost:8080/",
          "height": 36
        },
        "id": "_uLAQnYmSVXy",
        "outputId": "796b312c-9b4d-406e-8a80-7a772570c00b"
      },
      "execution_count": 24,
      "outputs": [
        {
          "output_type": "execute_result",
          "data": {
            "text/plain": [
              "'2.13.0'"
            ],
            "application/vnd.google.colaboratory.intrinsic+json": {
              "type": "string"
            }
          },
          "metadata": {},
          "execution_count": 24
        }
      ]
    },
    {
      "cell_type": "code",
      "source": [
        "(x_train, y_train), (x_test, y_test)=tf.keras.datasets.fashion_mnist.load_data()"
      ],
      "metadata": {
        "id": "TGw6LOfZSVat"
      },
      "execution_count": 25,
      "outputs": []
    },
    {
      "cell_type": "code",
      "source": [
        "x_train.shape"
      ],
      "metadata": {
        "colab": {
          "base_uri": "https://localhost:8080/"
        },
        "id": "3abVS91jSVeA",
        "outputId": "c4788eec-6b14-4506-fe41-c7c5649ceb8f"
      },
      "execution_count": 26,
      "outputs": [
        {
          "output_type": "execute_result",
          "data": {
            "text/plain": [
              "(60000, 28, 28)"
            ]
          },
          "metadata": {},
          "execution_count": 26
        }
      ]
    },
    {
      "cell_type": "code",
      "source": [
        "x_test.shape"
      ],
      "metadata": {
        "colab": {
          "base_uri": "https://localhost:8080/"
        },
        "id": "97NRJgmbSWa5",
        "outputId": "d49cf15f-3c9f-47a3-c625-415bb04ac5ff"
      },
      "execution_count": 27,
      "outputs": [
        {
          "output_type": "execute_result",
          "data": {
            "text/plain": [
              "(10000, 28, 28)"
            ]
          },
          "metadata": {},
          "execution_count": 27
        }
      ]
    },
    {
      "cell_type": "code",
      "source": [
        "set(y_train)   # 10 classes of data"
      ],
      "metadata": {
        "colab": {
          "base_uri": "https://localhost:8080/"
        },
        "id": "ye0oYpLPSWdz",
        "outputId": "4e9912a3-177c-41cd-f2ec-0b6de35d0f5c"
      },
      "execution_count": 28,
      "outputs": [
        {
          "output_type": "execute_result",
          "data": {
            "text/plain": [
              "{0, 1, 2, 3, 4, 5, 6, 7, 8, 9}"
            ]
          },
          "metadata": {},
          "execution_count": 28
        }
      ]
    },
    {
      "cell_type": "markdown",
      "source": [
        "y_train representing the classes of each training sample. set obtain the unique labels or classes present in the training set."
      ],
      "metadata": {
        "id": "L3rM9RFqWDDw"
      }
    },
    {
      "cell_type": "code",
      "source": [
        "plt.imshow(x_train[0], cmap='binary')\n",
        "plt.xlabel(y_train[0])\n",
        "plt.show()"
      ],
      "metadata": {
        "colab": {
          "base_uri": "https://localhost:8080/",
          "height": 449
        },
        "id": "vw3T6KOtSWgk",
        "outputId": "c2b71fe8-77a7-45f9-cbfd-be08a8e2d589"
      },
      "execution_count": 29,
      "outputs": [
        {
          "output_type": "display_data",
          "data": {
            "text/plain": [
              "<Figure size 640x480 with 1 Axes>"
            ],
            "image/png": "[encoded data removed]"
          },
          "metadata": {}
        }
      ]
    },
    {
      "cell_type": "code",
      "source": [
        "def create_model(hp):   # hp is hyperperameter object, which our tuner need,\n",
        "\n",
        "  num_hidden_layers=1\n",
        "  num_units=8   # hyperparameter\n",
        "  dropout_rate=0.1  # parameter\n",
        "  learning_rate= 0.01   # another parameter that we want to tune\n",
        "\n",
        "  if hp:\n",
        "    num_hidden_layers=hp.Choice('num_hidden_layers', values=[1,2,3])\n",
        "    num_units=hp.Choice('num_units', values=[8,16,32])\n",
        "    dropout_rate=hp.Float('dropout_rate', min_value=0.1, max_value=0.5)\n",
        "    learning_rate=hp.Float('learning_rate', min_value=0.0001, max_value=0.01)\n",
        "\n",
        "  model=tf.keras.models.Sequential()\n",
        "\n",
        "  model.add(tf.keras.layers.Flatten(input_shape=(28,28)))\n",
        "  model.add(tf.keras.layers.Lambda(lambda x: x/255.))\n",
        "\n",
        "  for _ in range(0, num_hidden_layers):\n",
        "    model.add(tf.keras.layers.Dense(num_units, activation='relu'))\n",
        "    model.add(tf.keras.layers.Dropout(dropout_rate))\n",
        "\n",
        "  model.add(tf.keras.layers.Dense(10, activation='softmax'))\n",
        "\n",
        "  model.compile(\n",
        "      loss='sparse_categorical_crossentropy',\n",
        "      optimizer=tf.keras.optimizers.Adam(learning_rate=learning_rate),\n",
        "      metrics=['accuracy']\n",
        "\n",
        "  )\n",
        "\n",
        "  return model"
      ],
      "metadata": {
        "id": "lvIx6vnfSWjZ"
      },
      "execution_count": 30,
      "outputs": []
    },
    {
      "cell_type": "code",
      "source": [
        "create_model(None).summary()"
      ],
      "metadata": {
        "colab": {
          "base_uri": "https://localhost:8080/"
        },
        "id": "BplupggzSWl5",
        "outputId": "85c2e3eb-efc8-4442-f92c-1f5ef443c92a"
      },
      "execution_count": 31,
      "outputs": [
        {
          "output_type": "stream",
          "name": "stdout",
          "text": [
            "Model: \"sequential_1\"\n",
            "_________________________________________________________________\n",
            " Layer (type)                Output Shape              Param #   \n",
            "=================================================================\n",
            " flatten_1 (Flatten)         (None, 784)               0         \n",
            "                                                                 \n",
            " lambda_1 (Lambda)           (None, 784)               0         \n",
            "                                                                 \n",
            " dense_3 (Dense)             (None, 8)                 6280      \n",
            "                                                                 \n",
            " dropout_2 (Dropout)         (None, 8)                 0         \n",
            "                                                                 \n",
            " dense_4 (Dense)             (None, 10)                90        \n",
            "                                                                 \n",
            "=================================================================\n",
            "Total params: 6370 (24.88 KB)\n",
            "Trainable params: 6370 (24.88 KB)\n",
            "Non-trainable params: 0 (0.00 Byte)\n",
            "_________________________________________________________________\n"
          ]
        }
      ]
    },
    {
      "cell_type": "code",
      "source": [
        "class CustomTuner(kt.tuners.BayesianOptimization): # to find optimal batch size\n",
        "  def run_trail(self, trial, *args, **kwargs):\n",
        "    kwargs['batch_size']= trial.hyperparaneteres.Int('batch_size', 32, 128, step=32)\n",
        "    super(CustomTuner, self.run_trial(trial, *args, **kwargs))\n"
      ],
      "metadata": {
        "id": "GeLBLIg0Z4DZ"
      },
      "execution_count": 32,
      "outputs": []
    },
    {
      "cell_type": "code",
      "source": [
        "tuner=CustomTuner(\n",
        "    create_model,\n",
        "    objective='val_accuracy',\n",
        "    max_trials=20,\n",
        "    directory='logs',\n",
        "    project_name='fashion_mnist',\n",
        "    overwrite=True\n",
        ")"
      ],
      "metadata": {
        "id": "2IKu1fbYZ4G5"
      },
      "execution_count": 33,
      "outputs": []
    },
    {
      "cell_type": "code",
      "source": [
        "tuner.search_space_summary()"
      ],
      "metadata": {
        "colab": {
          "base_uri": "https://localhost:8080/"
        },
        "id": "3No3-XQGZ4J3",
        "outputId": "36a72b89-aef1-474e-b54d-d9f6d0285b24"
      },
      "execution_count": 34,
      "outputs": [
        {
          "output_type": "stream",
          "name": "stdout",
          "text": [
            "Search space summary\n",
            "Default search space size: 4\n",
            "num_hidden_layers (Choice)\n",
            "{'default': 1, 'conditions': [], 'values': [1, 2, 3], 'ordered': True}\n",
            "num_units (Choice)\n",
            "{'default': 8, 'conditions': [], 'values': [8, 16, 32], 'ordered': True}\n",
            "dropout_rate (Float)\n",
            "{'default': 0.1, 'conditions': [], 'min_value': 0.1, 'max_value': 0.5, 'step': None, 'sampling': 'linear'}\n",
            "learning_rate (Float)\n",
            "{'default': 0.0001, 'conditions': [], 'min_value': 0.0001, 'max_value': 0.01, 'step': None, 'sampling': 'linear'}\n"
          ]
        }
      ]
    },
    {
      "cell_type": "code",
      "source": [
        "tuner.search(\n",
        "    x_train, y_train,\n",
        "    validation_data=(x_test, y_test),\n",
        "    epochs=5, verbose=True\n",
        ")"
      ],
      "metadata": {
        "colab": {
          "base_uri": "https://localhost:8080/"
        },
        "id": "bzRw5oPAZ4Mu",
        "outputId": "3baba353-6c63-4987-ed29-0ebcdd4d0cca"
      },
      "execution_count": 35,
      "outputs": [
        {
          "output_type": "stream",
          "name": "stdout",
          "text": [
            "Trial 20 Complete [00h 00m 33s]\n",
            "val_accuracy: 0.8409000039100647\n",
            "\n",
            "Best val_accuracy So Far: 0.8551999926567078\n",
            "Total elapsed time: 00h 14m 08s\n"
          ]
        }
      ]
    },
    {
      "cell_type": "code",
      "source": [
        "tuner.results_summary(1)"
      ],
      "metadata": {
        "colab": {
          "base_uri": "https://localhost:8080/"
        },
        "id": "uzduTPYi6CsJ",
        "outputId": "f235f997-e179-458f-eac7-74b7efe4761a"
      },
      "execution_count": 36,
      "outputs": [
        {
          "output_type": "stream",
          "name": "stdout",
          "text": [
            "Results summary\n",
            "Results in logs/fashion_mnist\n",
            "Showing 1 best trials\n",
            "Objective(name=\"val_accuracy\", direction=\"max\")\n",
            "\n",
            "Trial 12 summary\n",
            "Hyperparameters:\n",
            "num_hidden_layers: 1\n",
            "num_units: 32\n",
            "dropout_rate: 0.2544290660789602\n",
            "learning_rate: 0.001730397832827377\n",
            "Score: 0.8551999926567078\n"
          ]
        }
      ]
    },
    {
      "cell_type": "code",
      "source": [
        "model = tuner.get_best_models(num_models=1)[0]\n",
        "\n",
        "model.summary()"
      ],
      "metadata": {
        "colab": {
          "base_uri": "https://localhost:8080/"
        },
        "id": "6eqteIfn6C0a",
        "outputId": "296cb10a-1cd8-4237-ff91-bbe56b39ef38"
      },
      "execution_count": 37,
      "outputs": [
        {
          "output_type": "stream",
          "name": "stdout",
          "text": [
            "Model: \"sequential\"\n",
            "_________________________________________________________________\n",
            " Layer (type)                Output Shape              Param #   \n",
            "=================================================================\n",
            " flatten (Flatten)           (None, 784)               0         \n",
            "                                                                 \n",
            " lambda (Lambda)             (None, 784)               0         \n",
            "                                                                 \n",
            " dense (Dense)               (None, 32)                25120     \n",
            "                                                                 \n",
            " dropout (Dropout)           (None, 32)                0         \n",
            "                                                                 \n",
            " dense_1 (Dense)             (None, 10)                330       \n",
            "                                                                 \n",
            "=================================================================\n",
            "Total params: 25450 (99.41 KB)\n",
            "Trainable params: 25450 (99.41 KB)\n",
            "Non-trainable params: 0 (0.00 Byte)\n",
            "_________________________________________________________________\n"
          ]
        }
      ]
    },
    {
      "cell_type": "code",
      "source": [
        "h = model.fit(\n",
        "    x_train, y_train,\n",
        "    validation_data=(x_test, y_test),\n",
        "    epochs=20, verbose=2,\n",
        "    batch_size=128,\n",
        "    callbacks=[\n",
        "        tf.keras.callbacks.EarlyStopping(monitor='val_accuracy', patience=3)\n",
        "    ]\n",
        ")"
      ],
      "metadata": {
        "colab": {
          "base_uri": "https://localhost:8080/"
        },
        "id": "51sbB0n46C4F",
        "outputId": "114ebaf1-2094-4dea-c272-ed15be116843"
      },
      "execution_count": 38,
      "outputs": [
        {
          "output_type": "stream",
          "name": "stdout",
          "text": [
            "Epoch 1/20\n",
            "469/469 - 2s - loss: 0.3999 - accuracy: 0.8540 - val_loss: 0.3888 - val_accuracy: 0.8603 - 2s/epoch - 5ms/step\n",
            "Epoch 2/20\n",
            "469/469 - 1s - loss: 0.3983 - accuracy: 0.8548 - val_loss: 0.3913 - val_accuracy: 0.8584 - 1s/epoch - 3ms/step\n",
            "Epoch 3/20\n",
            "469/469 - 2s - loss: 0.3954 - accuracy: 0.8551 - val_loss: 0.3892 - val_accuracy: 0.8595 - 2s/epoch - 3ms/step\n",
            "Epoch 4/20\n",
            "469/469 - 2s - loss: 0.3903 - accuracy: 0.8579 - val_loss: 0.3834 - val_accuracy: 0.8623 - 2s/epoch - 4ms/step\n",
            "Epoch 5/20\n",
            "469/469 - 1s - loss: 0.3916 - accuracy: 0.8571 - val_loss: 0.3847 - val_accuracy: 0.8637 - 1s/epoch - 3ms/step\n",
            "Epoch 6/20\n",
            "469/469 - 1s - loss: 0.3856 - accuracy: 0.8594 - val_loss: 0.3840 - val_accuracy: 0.8640 - 1s/epoch - 3ms/step\n",
            "Epoch 7/20\n",
            "469/469 - 1s - loss: 0.3831 - accuracy: 0.8593 - val_loss: 0.3850 - val_accuracy: 0.8611 - 1s/epoch - 3ms/step\n",
            "Epoch 8/20\n",
            "469/469 - 1s - loss: 0.3797 - accuracy: 0.8601 - val_loss: 0.3958 - val_accuracy: 0.8607 - 1s/epoch - 3ms/step\n",
            "Epoch 9/20\n",
            "469/469 - 1s - loss: 0.3749 - accuracy: 0.8625 - val_loss: 0.3834 - val_accuracy: 0.8615 - 1s/epoch - 3ms/step\n"
          ]
        }
      ]
    },
    {
      "cell_type": "code",
      "source": [
        "model.evaluate(x_test, y_test)"
      ],
      "metadata": {
        "colab": {
          "base_uri": "https://localhost:8080/"
        },
        "id": "--_0NyBp-6st",
        "outputId": "ad3f31c6-c810-4d92-c782-fde6e533d658"
      },
      "execution_count": 39,
      "outputs": [
        {
          "output_type": "stream",
          "name": "stdout",
          "text": [
            "313/313 [==============================] - 1s 4ms/step - loss: 0.3834 - accuracy: 0.8615\n"
          ]
        },
        {
          "output_type": "execute_result",
          "data": {
            "text/plain": [
              "[0.3833782374858856, 0.8615000247955322]"
            ]
          },
          "metadata": {},
          "execution_count": 39
        }
      ]
    }
  ]
}